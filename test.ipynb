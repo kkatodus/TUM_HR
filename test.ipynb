{
 "cells": [
  {
   "cell_type": "code",
   "execution_count": 1,
   "metadata": {},
   "outputs": [],
   "source": [
    "import mujoco\n",
    "import mediapy as media\n"
   ]
  },
  {
   "cell_type": "code",
   "execution_count": 2,
   "metadata": {},
   "outputs": [],
   "source": [
    "# PATHS\n",
    "HR_MODEL_PATH = \"hello_robot_stretch/stretch.xml\""
   ]
  },
  {
   "cell_type": "code",
   "execution_count": 3,
   "metadata": {},
   "outputs": [],
   "source": [
    "hr_model = mujoco.MjModel.from_xml_path(HR_MODEL_PATH)\n",
    "hr_data = mujoco.MjData(hr_model)\n"
   ]
  },
  {
   "cell_type": "code",
   "execution_count": 4,
   "metadata": {},
   "outputs": [
    {
     "data": {
      "text/html": [
       "<table class=\"show_images\" style=\"border-spacing:0px;\"><tr><td style=\"padding:1px;\"><img width=\"320\" height=\"240\" style=\"image-rendering:auto; object-fit:cover;\" src=\"data:image/png;base64,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\"/></td></tr></table>"
      ],
      "text/plain": [
       "<IPython.core.display.HTML object>"
      ]
     },
     "metadata": {},
     "output_type": "display_data"
    }
   ],
   "source": [
    "hr_renderer = mujoco.Renderer(hr_model)\n",
    "mujoco.mj_forward(hr_model, hr_data)\n",
    "hr_renderer.update_scene(hr_data)\n",
    "media.show_image(hr_renderer.render())\n"
   ]
  },
  {
   "cell_type": "code",
   "execution_count": 7,
   "metadata": {},
   "outputs": [
    {
     "ename": "AttributeError",
     "evalue": "module 'mujoco' has no attribute 'MjtFrame'",
     "output_type": "error",
     "traceback": [
      "\u001b[0;31m---------------------------------------------------------------------------\u001b[0m",
      "\u001b[0;31mAttributeError\u001b[0m                            Traceback (most recent call last)",
      "Cell \u001b[0;32mIn[7], line 7\u001b[0m\n\u001b[1;32m      5\u001b[0m hr_model \u001b[38;5;241m=\u001b[39m mujoco\u001b[38;5;241m.\u001b[39mMjModel\u001b[38;5;241m.\u001b[39mfrom_xml_path(HR_MODEL_PATH)\n\u001b[1;32m      6\u001b[0m hr_data \u001b[38;5;241m=\u001b[39m mujoco\u001b[38;5;241m.\u001b[39mMjData(hr_model)\n\u001b[0;32m----> 7\u001b[0m frames \u001b[38;5;241m=\u001b[39m \u001b[43mmujoco\u001b[49m\u001b[38;5;241;43m.\u001b[39;49m\u001b[43mMjtFrame\u001b[49m(hr_model)\n\u001b[1;32m      9\u001b[0m hr_data\u001b[38;5;241m.\u001b[39mctrl[\u001b[38;5;241m0\u001b[39m] \u001b[38;5;241m=\u001b[39m \u001b[38;5;241m1\u001b[39m\n\u001b[1;32m     10\u001b[0m \u001b[38;5;28mprint\u001b[39m(hr_data\u001b[38;5;241m.\u001b[39mcam(\u001b[38;5;241m0\u001b[39m))\n",
      "\u001b[0;31mAttributeError\u001b[0m: module 'mujoco' has no attribute 'MjtFrame'"
     ]
    }
   ],
   "source": [
    "duration = 3\n",
    "fps = 60\n",
    "frames = []\n",
    "camera_frames = []\n",
    "hr_model = mujoco.MjModel.from_xml_path(HR_MODEL_PATH)\n",
    "hr_data = mujoco.MjData(hr_model)\n",
    "cam = mujoco.MjvCamera()\n",
    "\n",
    "hr_data.ctrl[0] = 1\n",
    "print(hr_data.cam(0))\n",
    "video_renderer = mujoco.Renderer(hr_model)\n",
    "scene_option = mujoco.MjvOption()\n",
    "scene_option.flags[mujoco.mjtVisFlag.mjVIS_JOINT] = False\\\n",
    "\n",
    "while hr_data.time < duration:\n",
    "\tmujoco.mj_step(hr_model, hr_data)\n",
    "\tsomething = hr_data\n",
    "\tif len(frames) < hr_data.time * fps:\n",
    "\t\thr_renderer.update_scene(hr_data)\n",
    "\t\tpixels = hr_renderer.render()\n",
    "\t\tframes.append(pixels)\n",
    "media.show_video(frames, fps=fps)\n",
    "# media.show_video(\"camera_frames.mp4\", frames, fps=fps)"
   ]
  },
  {
   "cell_type": "code",
   "execution_count": null,
   "metadata": {},
   "outputs": [],
   "source": []
  }
 ],
 "metadata": {
  "kernelspec": {
   "display_name": "mujo_venv",
   "language": "python",
   "name": "python3"
  },
  "language_info": {
   "codemirror_mode": {
    "name": "ipython",
    "version": 3
   },
   "file_extension": ".py",
   "mimetype": "text/x-python",
   "name": "python",
   "nbconvert_exporter": "python",
   "pygments_lexer": "ipython3",
   "version": "3.12.2"
  }
 },
 "nbformat": 4,
 "nbformat_minor": 2
}
