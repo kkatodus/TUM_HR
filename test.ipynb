{
 "cells": [
  {
   "cell_type": "code",
   "execution_count": null,
   "metadata": {},
   "outputs": [],
   "source": [
    "import mujoco\n",
    "import mujoco.viewer\n",
    "import mediapy as media\n",
    "import time"
   ]
  },
  {
   "cell_type": "code",
   "execution_count": null,
   "metadata": {},
   "outputs": [],
   "source": [
    "# PATHS\n",
    "HR_MODEL_PATH = \"stretch2//stretch.xml\"\n",
    "hr_model = mujoco.MjModel.from_xml_path(HR_MODEL_PATH)\n"
   ]
  },
  {
   "cell_type": "code",
   "execution_count": null,
   "metadata": {},
   "outputs": [],
   "source": [
    "\n",
    "# Load and create renderer\n",
    "hr_data = mujoco.MjData(hr_model)\n",
    "hr_renderer = mujoco.Renderer(hr_model)\n",
    "\n",
    "# Dynamics\n",
    "mujoco.mj_forward(hr_model, hr_data)\n",
    "hr_renderer.update_scene(hr_data)\n",
    "#media.show_image(hr_renderer.render()) # Show image\n",
    "\n",
    "# Simulation\n",
    "duration = 3\n",
    "fps = 60\n",
    "frames = []\n",
    "camera_frames = []\n",
    "\n",
    "# HR controls\n",
    "mujoco.mj_resetData(hr_model, hr_data)\n",
    "hr_data.ctrl[0] = 5\n",
    "hr_data.ctrl[7] = -2\n",
    "hr_data.ctrl[6] = 1\n",
    "\n",
    "# Run simulation\n",
    "scene_option = mujoco.MjvOption()\n",
    "scene_option.flags[mujoco.mjtVisFlag.mjVIS_JOINT] = False\n",
    "for i in range(duration*fps):\n",
    "\twhile hr_data.time < i/fps:\n",
    "\t\t# Render simulation\n",
    "\t\tmujoco.mj_step(hr_model, hr_data)\n",
    "\thr_renderer.update_scene(hr_data, camera='camera_depth')\n",
    "\tcam_pixels = hr_renderer.render()\n",
    "\tif i == 5:\n",
    "\t\tprint(len(cam_pixels[0]))\n",
    "\t\tprint(cam_pixels)\n",
    "\tcamera_frames.append(cam_pixels)\n",
    "\n",
    "# Show simulation\n",
    "media.show_video(camera_frames, fps=fps)\n"
   ]
  },
  {
   "cell_type": "code",
   "execution_count": null,
   "metadata": {},
   "outputs": [],
   "source": [
    "# Stretch 3 Stuff that Ken is working on\n",
    "HR_URDF_PATH = 'SE3/stretch_description_SE3_eoa_wrist_dw3_tool_sg3.xml'\n",
    "hr_model = mujoco.MjModel.from_xml_path(HR_URDF_PATH)\n",
    "hr_data = mujoco.MjData(hr_model)"
   ]
  },
  {
   "cell_type": "code",
   "execution_count": null,
   "metadata": {},
   "outputs": [],
   "source": [
    "m = mujoco.MjModel.from_xml_path(HR_MODEL_PATH)\n",
    "d = mujoco.MjData(m)\n",
    "\n",
    "r = mujoco.Renderer(m)\n",
    "\n",
    "scene_option = mujoco.MjvOption()\n",
    "scene_option.flags[mujoco.mjtVisFlag.mjVIS_JOINT] = False\n",
    "fps = 60\n",
    "camera_frames = []\n",
    "\n",
    "with mujoco.viewer.launch_passive(m, d) as viewer:\n",
    "  # Close the viewer automatically after 30 wall-seconds.\n",
    "  start = time.time()\n",
    "  mujoco.mj_resetData(m, d)\n",
    "\n",
    "  d.ctrl[0] = 5\n",
    "  d.ctrl[1]= 5\n",
    "  d.ctrl[7] = -2\n",
    "  d.ctrl[6] = 1\n",
    "\n",
    "  i = 0\n",
    "\n",
    "  while viewer.is_running() and time.time() - start < 5:\n",
    "    step_start = time.time()\n",
    "\n",
    "    # mj_step can be replaced with code that also evaluates\n",
    "    # a policy and applies a control signal before stepping the physics.\n",
    "    mujoco.mj_step(m, d)\n",
    "\n",
    "    # Example modification of a viewer option: toggle contact points every two seconds.\n",
    "    with viewer.lock():\n",
    "      viewer.opt.flags[mujoco.mjtVisFlag.mjVIS_CONTACTPOINT] = int(d.time % 2)\n",
    "\n",
    "    # Pick up changes to the physics state, apply perturbations, update options from GUI.\n",
    "    viewer.sync()\n",
    "\n",
    "    \n",
    "    if time.time() - start > i / fps:\n",
    "      i += 1\n",
    "      r.update_scene(d, camera='camera_rgb')\n",
    "      cam_pixels = r.render()\n",
    "      camera_frames.append(cam_pixels)\n",
    "    \n",
    "    # Rudimentary time keeping, will drift relative to wall clock.\n",
    "    time_until_next_step = m.opt.timestep - (time.time() - step_start)\n",
    "    if time_until_next_step > 0:\n",
    "      time.sleep(time_until_next_step)\n",
    "\n",
    "media.show_video(camera_frames, fps=fps)\n"
   ]
  }
 ],
 "metadata": {
  "kernelspec": {
   "display_name": "mujo_venv",
   "language": "python",
   "name": "python3"
  },
  "language_info": {
   "codemirror_mode": {
    "name": "ipython",
    "version": 3
   },
   "file_extension": ".py",
   "mimetype": "text/x-python",
   "name": "python",
   "nbconvert_exporter": "python",
   "pygments_lexer": "ipython3",
   "version": "3.10.14"
  }
 },
 "nbformat": 4,
 "nbformat_minor": 2
}
